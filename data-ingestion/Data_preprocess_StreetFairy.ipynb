{
 "metadata": {
  "kernelspec": {
   "display_name": "Streamlit Notebook",
   "name": "streamlit"
  },
  "lastEditStatus": {
   "notebookId": "gtfpgxqtvxrfea3u3mnt",
   "authorId": "4087741551729",
   "authorName": "BOA",
   "authorEmail": "dhakshinamurthy.d@northeastern.edu",
   "sessionId": "90cd4a24-6593-4b74-a07b-ee7bf8dd3a99",
   "lastEditTime": 1740186069464
  }
 },
 "nbformat_minor": 5,
 "nbformat": 4,
 "cells": [
  {
   "cell_type": "code",
   "id": "3775908f-ca36-4846-8f38-5adca39217f2",
   "metadata": {
    "language": "python",
    "name": "cell1",
    "collapsed": false
   },
   "source": "from snowflake.snowpark.session import Session\nimport pandas as pd\nimport json\n\nsession = Session.builder.getOrCreate()\n\ndf_Business_raw = session.sql(\"SELECT RAW_DATA FROM Business_raw\").to_pandas()\ndf_Business_raw['RAW_DATA'] = df_Business_raw['RAW_DATA'].apply(json.loads)\ndf_Business = pd.json_normalize(df_Business_raw['RAW_DATA'])\nprint(df_Business_raw.head(5))\nprint(df_Business.head(500))\n\n\n",
   "execution_count": null,
   "outputs": []
  },
  {
   "cell_type": "code",
   "id": "09fcb3aa-c898-4b3c-8830-bb70f5a92a86",
   "metadata": {
    "language": "python",
    "name": "cell3",
    "collapsed": false
   },
   "outputs": [],
   "source": "from snowflake.snowpark.session import Session\nimport pandas as pd\n\nsession = Session.builder.getOrCreate()\n\ndf_Business = session.sql(\"SELECT * FROM Business_Test\").to_pandas()\nprint(df_Business.head(5))\n\n\n",
   "execution_count": null
  },
  {
   "cell_type": "code",
   "id": "e3fbf907-b7f3-4113-bc01-4dd3773f270a",
   "metadata": {
    "language": "python",
    "name": "cell8",
    "collapsed": false
   },
   "outputs": [],
   "source": "print(df_Business.columns)\n",
   "execution_count": null
  },
  {
   "cell_type": "code",
   "id": "57b0790b-c558-40a2-a5be-18f0813a0114",
   "metadata": {
    "language": "python",
    "name": "cell5",
    "collapsed": false
   },
   "outputs": [],
   "source": "import ast\n\ndef parse_str_to_dict(val):\n    if pd.isna(val) or val is None:\n        return {}\n    try:\n        return ast.literal_eval(val)\n    except Exception as e:\n        print(f\"Error parsing value: {e}\")\n        return {}\n\ndf_Business['ATTRIBUTES'] = df_Business['ATTRIBUTES'].apply(parse_str_to_dict)\ndf_Business['HOURS'] = df_Business['HOURS'].apply(parse_str_to_dict)\n\ndf_attributes_expanded = df_Business['ATTRIBUTES'].apply(pd.Series)\ndf_hours_expanded = df_Business['ATTRIBUTES'].apply(pd.Series)\n\ndf_hours_expanded = df_hours_expanded.add_suffix('_Hour')\ndf_attributes_expanded = df_attributes_expanded.add_suffix('_Attr')\n\ndf_Business = df_Business.join(df_attributes_expanded)\ndf_Business = df_Business.join(df_hours_expanded)\n",
   "execution_count": null
  },
  {
   "cell_type": "code",
   "id": "b48f8265-c62a-4623-b1e0-1d02c81ea302",
   "metadata": {
    "language": "python",
    "name": "cell6",
    "collapsed": false
   },
   "outputs": [],
   "source": "df_Business['BusinessParking_Attr'] = df_Business['BusinessParking_Attr'].apply(parse_str_to_dict)\ndf_Business['Ambience_Attr'] = df_Business['Ambience_Attr'].apply(parse_str_to_dict)\ndf_Business['GoodForMeal_Attr'] = df_Business['GoodForMeal_Attr'].apply(parse_str_to_dict)\ndf_Business['Music_Attr'] = df_Business['Music_Attr'].apply(parse_str_to_dict)\ndf_Business['BestNights_Attr'] = df_Business['BestNights_Attr'].apply(parse_str_to_dict)\n\n\n\ndf_BusinessParking_expanded = df_Business['BusinessParking_Attr'].apply(pd.Series)\ndf_Ambience_expanded = df_Business['Ambience_Attr'].apply(pd.Series)\ndf_GoodForMeal_expanded = df_Business['GoodForMeal_Attr'].apply(pd.Series)\ndf_Music_expanded = df_Business['Music_Attr'].apply(pd.Series)\n\ndf_BusinessParking_expanded = df_BusinessParking_expanded.add_suffix('_BusinessParking')\ndf_Ambience_expanded = df_Ambience_expanded.add_suffix('_Ambience')\ndf_GoodForMeal_expanded =  df_GoodForMeal_expanded.add_suffix('_GoodForMeal')\ndf_Music_expanded =  df_Music_expanded.add_suffix('_Music_expanded')\n\n\ndf_Business = df_Business.join(df_BusinessParking_expanded)\ndf_Business = df_Business.join(df_Ambience_expanded)\ndf_Business = df_Business.join(df_GoodForMeal_expanded)\ndf_Business = df_Business.join(df_Music_expanded)",
   "execution_count": null
  },
  {
   "cell_type": "code",
   "id": "3ee10da3-7402-4ff5-a7c9-a060c81d6e7b",
   "metadata": {
    "language": "python",
    "name": "cell7",
    "collapsed": false
   },
   "outputs": [],
   "source": "print(df_Business.head(5))",
   "execution_count": null
  },
  {
   "cell_type": "code",
   "id": "8c10fb72-ca8a-43be-822c-743331b03685",
   "metadata": {
    "language": "python",
    "name": "cell4",
    "collapsed": false
   },
   "outputs": [],
   "source": "print(df_Business.describe())\n\n",
   "execution_count": null
  },
  {
   "cell_type": "code",
   "id": "ea41c652-40b3-4881-9f50-dd441837444b",
   "metadata": {
    "language": "python",
    "name": "cell2",
    "collapsed": false
   },
   "outputs": [],
   "source": "print(df_Business.isnull().sum())\n\n\n",
   "execution_count": null
  },
  {
   "cell_type": "code",
   "id": "e442dc23-6d99-482d-9022-84045ea44718",
   "metadata": {
    "language": "python",
    "name": "cell9"
   },
   "outputs": [],
   "source": "print(df_Business.count())",
   "execution_count": null
  }
 ]
}